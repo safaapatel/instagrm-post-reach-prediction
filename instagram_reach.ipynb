{
 "cells": [
  {
   "cell_type": "code",
   "execution_count": 39,
   "metadata": {},
   "outputs": [],
   "source": [
    "import pandas as pd\n",
    "import matplotlib.pyplot as plt"
   ]
  },
  {
   "cell_type": "code",
   "execution_count": 40,
   "metadata": {},
   "outputs": [],
   "source": [
    "df=pd.read_csv(\"https://raw.githubusercontent.com/WidhyaOrg/datasets/master/instagram_reach.csv\")"
   ]
  },
  {
   "cell_type": "code",
   "execution_count": 41,
   "metadata": {},
   "outputs": [
    {
     "name": "stdout",
     "output_type": "stream",
     "text": [
      "<class 'pandas.core.frame.DataFrame'>\n",
      "RangeIndex: 100 entries, 0 to 99\n",
      "Data columns (total 8 columns):\n",
      " #   Column             Non-Null Count  Dtype \n",
      "---  ------             --------------  ----- \n",
      " 0   Unnamed: 0         100 non-null    int64 \n",
      " 1   S.No               100 non-null    int64 \n",
      " 2   USERNAME           100 non-null    object\n",
      " 3   Caption            94 non-null     object\n",
      " 4   Followers          100 non-null    int64 \n",
      " 5   Hashtags           100 non-null    object\n",
      " 6   Time since posted  100 non-null    object\n",
      " 7   Likes              100 non-null    int64 \n",
      "dtypes: int64(4), object(4)\n",
      "memory usage: 6.4+ KB\n"
     ]
    }
   ],
   "source": [
    "df.info()"
   ]
  },
  {
   "cell_type": "code",
   "execution_count": 42,
   "metadata": {},
   "outputs": [],
   "source": [
    "list1 = df['Time since posted'].to_list()"
   ]
  },
  {
   "cell_type": "code",
   "execution_count": 43,
   "metadata": {},
   "outputs": [
    {
     "name": "stdout",
     "output_type": "stream",
     "text": [
      "['11 hours', '2 hours', '2 hours', '3 hours', '3 hours', '3 hours', '3 hours', '4 hours', '4 hours', '7 hours', '7 hours', '8 hours', '9 hours', '11 hours', '3 hours', '3 hours', '4 hours', '4 hours', '4 hours', '4 hours', '5 hours', '2 hours', '2 hours', '2 hours', '2 hours', '2 hours', '2 hours', '20 hours', '4 hours', '2 hours', '2 hours', '2 hours', '2 hours', '2 hours', '2 hours', '2 hours', '2 hours', '2 hours', '2 hours', '14 hours', '2 hours', '2 hours', '2 hours', '2 hours', '2 hours', '2 hours', '2 hours', '3 hours', '3 hours', '4 hours', '4 hours', '4 hours', '4 hours', '4 hours', '7 hours', '24 hours', '2 hours', '2 hours', '2 hours', '2 hours', '2 hours', '3 hours', '2 hours', '3 hours', '2 hours', '2 hours', '2 hours', '2 hours', '2 hours', '2 hours', '2 hours', '2 hours', '2 hours', '2 hours', '2 hours', '2 hours', '2 hours', '2 hours', '2 hours', '2 hours', '2 hours', '2 hours', '2 hours', '3 hours', '3 hours', '3 hours', '4 hours', '2 hours', '2 hours', '2 hours', '2 hours', '2 hours', '2 hours', '2 hours', '3 hours', '3 hours', '3 hours', '3 hours', '3 hours', '3 hours']\n"
     ]
    }
   ],
   "source": [
    "print(list1)"
   ]
  },
  {
   "cell_type": "code",
   "execution_count": 44,
   "metadata": {},
   "outputs": [
    {
     "name": "stdout",
     "output_type": "stream",
     "text": [
      "['11  ', '2  ', '2  ', '3  ', '3  ', '3  ', '3  ', '4  ', '4  ', '7  ', '7  ', '8  ', '9  ', '11  ', '3  ', '3  ', '4  ', '4  ', '4  ', '4  ', '5  ', '2  ', '2  ', '2  ', '2  ', '2  ', '2  ', '20  ', '4  ', '2  ', '2  ', '2  ', '2  ', '2  ', '2  ', '2  ', '2  ', '2  ', '2  ', '14  ', '2  ', '2  ', '2  ', '2  ', '2  ', '2  ', '2  ', '3  ', '3  ', '4  ', '4  ', '4  ', '4  ', '4  ', '7  ', '24  ', '2  ', '2  ', '2  ', '2  ', '2  ', '3  ', '2  ', '3  ', '2  ', '2  ', '2  ', '2  ', '2  ', '2  ', '2  ', '2  ', '2  ', '2  ', '2  ', '2  ', '2  ', '2  ', '2  ', '2  ', '2  ', '2  ', '2  ', '3  ', '3  ', '3  ', '4  ', '2  ', '2  ', '2  ', '2  ', '2  ', '2  ', '2  ', '3  ', '3  ', '3  ', '3  ', '3  ', '3  ']\n"
     ]
    }
   ],
   "source": [
    "list2=[]\n",
    "\n",
    "for string in list1:\n",
    "    s=string.replace(\"hours\",\" \")\n",
    "    list2.append(s)\n",
    "    \n",
    "print(list2)"
   ]
  },
  {
   "cell_type": "code",
   "execution_count": 45,
   "metadata": {},
   "outputs": [
    {
     "name": "stdout",
     "output_type": "stream",
     "text": [
      "[11, 2, 2, 3, 3, 3, 3, 4, 4, 7, 7, 8, 9, 11, 3, 3, 4, 4, 4, 4, 5, 2, 2, 2, 2, 2, 2, 20, 4, 2, 2, 2, 2, 2, 2, 2, 2, 2, 2, 14, 2, 2, 2, 2, 2, 2, 2, 3, 3, 4, 4, 4, 4, 4, 7, 24, 2, 2, 2, 2, 2, 3, 2, 3, 2, 2, 2, 2, 2, 2, 2, 2, 2, 2, 2, 2, 2, 2, 2, 2, 2, 2, 2, 3, 3, 3, 4, 2, 2, 2, 2, 2, 2, 2, 3, 3, 3, 3, 3, 3]\n"
     ]
    }
   ],
   "source": [
    "list3 = [int(item) for item in list2]\n",
    "print(list3)"
   ]
  },
  {
   "cell_type": "code",
   "execution_count": 46,
   "metadata": {},
   "outputs": [],
   "source": [
    "import matplotlib.pyplot as plt\n",
    "import numpy as np\n",
    "from sklearn import datasets, linear_model\n",
    "from sklearn.metrics import mean_squared_error, r2_score\n",
    "from sklearn.model_selection import train_test_split\n",
    "from sklearn.linear_model import LinearRegression"
   ]
  },
  {
   "cell_type": "code",
   "execution_count": 47,
   "metadata": {},
   "outputs": [
    {
     "data": {
      "text/plain": [
       "Index(['Unnamed: 0', 'S.No', 'USERNAME', 'Caption', 'Followers', 'Hashtags',\n",
       "       'Time since posted', 'Likes'],\n",
       "      dtype='object')"
      ]
     },
     "execution_count": 47,
     "metadata": {},
     "output_type": "execute_result"
    }
   ],
   "source": [
    "df.columns"
   ]
  },
  {
   "cell_type": "code",
   "execution_count": 48,
   "metadata": {},
   "outputs": [
    {
     "data": {
      "text/plain": [
       "7"
      ]
     },
     "execution_count": 48,
     "metadata": {},
     "output_type": "execute_result"
    }
   ],
   "source": [
    "df.columns.get_loc(\"Likes\")"
   ]
  },
  {
   "cell_type": "code",
   "execution_count": 49,
   "metadata": {},
   "outputs": [],
   "source": [
    "x=df.iloc[:,[4,6]].values\n",
    "y=df.iloc[:,[7]].values"
   ]
  },
  {
   "cell_type": "code",
   "execution_count": 50,
   "metadata": {},
   "outputs": [
    {
     "name": "stdout",
     "output_type": "stream",
     "text": [
      "(100, 1)\n"
     ]
    }
   ],
   "source": [
    "print(y.shape)"
   ]
  },
  {
   "cell_type": "code",
   "execution_count": 51,
   "metadata": {},
   "outputs": [],
   "source": [
    "x[:,1]=list3"
   ]
  },
  {
   "cell_type": "code",
   "execution_count": 52,
   "metadata": {},
   "outputs": [],
   "source": [
    "x_train,x_test,y_train,y_test=train_test_split(x,y,test_size=0.2,random_state=123)"
   ]
  },
  {
   "cell_type": "code",
   "execution_count": 64,
   "metadata": {},
   "outputs": [
    {
     "name": "stdout",
     "output_type": "stream",
     "text": [
      "(80, 2) (20, 2) (80, 1) (20, 1)\n"
     ]
    }
   ],
   "source": [
    "print(x_train.shape,x_test.shape,y_train.shape,y_test.shape)"
   ]
  },
  {
   "cell_type": "code",
   "execution_count": 65,
   "metadata": {},
   "outputs": [],
   "source": [
    "model=LinearRegression()"
   ]
  },
  {
   "cell_type": "code",
   "execution_count": 66,
   "metadata": {},
   "outputs": [
    {
     "data": {
      "text/plain": [
       "LinearRegression()"
      ]
     },
     "execution_count": 66,
     "metadata": {},
     "output_type": "execute_result"
    }
   ],
   "source": [
    "model.fit(x_train, y_train)"
   ]
  },
  {
   "cell_type": "code",
   "execution_count": 58,
   "metadata": {},
   "outputs": [
    {
     "name": "stdout",
     "output_type": "stream",
     "text": [
      "[9.51351379]\n"
     ]
    }
   ],
   "source": [
    "print(model.intercept_)"
   ]
  },
  {
   "cell_type": "code",
   "execution_count": 59,
   "metadata": {},
   "outputs": [
    {
     "name": "stdout",
     "output_type": "stream",
     "text": [
      "[[6.62536823e-03 9.24679641e+00]]\n"
     ]
    }
   ],
   "source": [
    "print(model.coef_)"
   ]
  },
  {
   "cell_type": "code",
   "execution_count": 61,
   "metadata": {},
   "outputs": [],
   "source": [
    "y_pred = model.predict(x_test)"
   ]
  },
  {
   "cell_type": "code",
   "execution_count": 67,
   "metadata": {},
   "outputs": [
    {
     "data": {
      "text/plain": [
       "array([[ 46.58682922],\n",
       "       [ 35.95754848],\n",
       "       [ 33.60554276],\n",
       "       [ 48.34917717],\n",
       "       [ 37.69117732],\n",
       "       [121.82886348],\n",
       "       [ 45.40973131],\n",
       "       [ 58.20109972],\n",
       "       [ 33.8904336 ],\n",
       "       [ 39.26801496],\n",
       "       [ 57.79476216],\n",
       "       [ 41.35059822],\n",
       "       [ 29.20629826],\n",
       "       [ 28.967785  ],\n",
       "       [ 29.10691773],\n",
       "       [ 29.81583213],\n",
       "       [ 32.18771396],\n",
       "       [ 29.28580268],\n",
       "       [ 31.51855177],\n",
       "       [ 45.05417906]])"
      ]
     },
     "execution_count": 67,
     "metadata": {},
     "output_type": "execute_result"
    }
   ],
   "source": [
    "y_pred"
   ]
  },
  {
   "cell_type": "code",
   "execution_count": 62,
   "metadata": {},
   "outputs": [],
   "source": [
    "from sklearn import metrics"
   ]
  },
  {
   "cell_type": "code",
   "execution_count": 69,
   "metadata": {},
   "outputs": [],
   "source": [
    "mse=(metrics.mean_squared_error(y_test,y_pred))"
   ]
  },
  {
   "cell_type": "code",
   "execution_count": 70,
   "metadata": {},
   "outputs": [
    {
     "name": "stdout",
     "output_type": "stream",
     "text": [
      "665.505349686798\n"
     ]
    }
   ],
   "source": [
    "print(mse)"
   ]
  },
  {
   "cell_type": "code",
   "execution_count": 71,
   "metadata": {},
   "outputs": [
    {
     "name": "stdout",
     "output_type": "stream",
     "text": [
      "665.51\n"
     ]
    }
   ],
   "source": [
    "print(round(mse, 2))"
   ]
  },
  {
   "cell_type": "code",
   "execution_count": null,
   "metadata": {},
   "outputs": [],
   "source": []
  }
 ],
 "metadata": {
  "kernelspec": {
   "display_name": "Python 3",
   "language": "python",
   "name": "python3"
  },
  "language_info": {
   "codemirror_mode": {
    "name": "ipython",
    "version": 3
   },
   "file_extension": ".py",
   "mimetype": "text/x-python",
   "name": "python",
   "nbconvert_exporter": "python",
   "pygments_lexer": "ipython3",
   "version": "3.8.5"
  }
 },
 "nbformat": 4,
 "nbformat_minor": 4
}
